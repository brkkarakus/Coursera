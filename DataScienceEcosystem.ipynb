{
 "cells": [
  {
   "cell_type": "markdown",
   "id": "651ffdb4-98db-498f-b702-a3d57fab87b2",
   "metadata": {},
   "source": [
    "Data Science Tools and Ecosystem"
   ]
  },
  {
   "cell_type": "markdown",
   "id": "fe2a3f24-d0e8-4915-9d57-88289255ec12",
   "metadata": {},
   "source": [
    "In this notebook, Data Science Tools and Ecosystem are summarized."
   ]
  },
  {
   "cell_type": "markdown",
   "id": "7e45bd8d-8281-4988-ba07-838c1cf0f257",
   "metadata": {},
   "source": [
    "Some of the popular languages that Data Scientists use are: R, Scala, Python"
   ]
  },
  {
   "cell_type": "markdown",
   "id": "98137591-3a52-4823-8a67-7a04027107ae",
   "metadata": {},
   "source": [
    "**Objektives:**\n",
    "\n",
    "    -pandas,Numpy, IBM Watson, Kaggle, Branches"
   ]
  },
  {
   "cell_type": "markdown",
   "id": "ceed2dbd-5eb5-49e0-abfb-831682cf73b4",
   "metadata": {},
   "source": [
    "Some of the commonly used libraries used by Data Scientists include: Scikit-learn, pandas, Tensorflow"
   ]
  },
  {
   "cell_type": "markdown",
   "id": "7a2804f3-70a8-4b97-9da1-b40f5432ec92",
   "metadata": {},
   "source": [
    "Data Science Tools\n",
    "Anaconda Navigator\n",
    "Jupyterlab\n",
    "RStudio"
   ]
  },
  {
   "cell_type": "markdown",
   "id": "d847fa6f-ff78-4fca-a526-25e799fe3cd4",
   "metadata": {},
   "source": [
    "Below are a few examples of evaluating arithmetic expressions in Python."
   ]
  },
  {
   "cell_type": "code",
   "execution_count": 3,
   "id": "a05cb295-d7d3-4d37-bc79-8f7208a74eb6",
   "metadata": {},
   "outputs": [
    {
     "data": {
      "text/plain": [
       "17"
      ]
     },
     "execution_count": 3,
     "metadata": {},
     "output_type": "execute_result"
    }
   ],
   "source": [
    "(3*4)+5 #This a simple arithmetic expression to mutiply then add integers."
   ]
  },
  {
   "cell_type": "code",
   "execution_count": 4,
   "id": "f2207091-eb3f-473e-9c93-e42458c99b32",
   "metadata": {},
   "outputs": [
    {
     "data": {
      "text/plain": [
       "3.3333333333333335"
      ]
     },
     "execution_count": 4,
     "metadata": {},
     "output_type": "execute_result"
    }
   ],
   "source": [
    "200/60 #his will convert 200 minutes to hours by diving by 60"
   ]
  },
  {
   "cell_type": "markdown",
   "id": "6c0761ed-e959-42d9-bb87-a0ba1f4bacf2",
   "metadata": {},
   "source": [
    "## Autor\n",
    "Burak"
   ]
  },
  {
   "cell_type": "code",
   "execution_count": null,
   "id": "f90e45eb-ee3c-4d16-8e6d-f0ce24322d8c",
   "metadata": {},
   "outputs": [],
   "source": []
  }
 ],
 "metadata": {
  "kernelspec": {
   "display_name": "Python 3 (ipykernel)",
   "language": "python",
   "name": "python3"
  },
  "language_info": {
   "codemirror_mode": {
    "name": "ipython",
    "version": 3
   },
   "file_extension": ".py",
   "mimetype": "text/x-python",
   "name": "python",
   "nbconvert_exporter": "python",
   "pygments_lexer": "ipython3",
   "version": "3.9.7"
  }
 },
 "nbformat": 4,
 "nbformat_minor": 5
}
